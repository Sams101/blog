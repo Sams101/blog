{
 "cells": [
  {
   "cell_type": "markdown",
   "metadata": {},
   "source": [
    "# Packaging Python Applications for Debian\n",
    "> \"Easily deploy any Python application in form of an ‘omnibus’ Debian package using `dh-virtualenv`.\"\n",
    "- author: jhermann\n",
    "- toc: true\n",
    "- branch: master\n",
    "- badges: true\n",
    "- comments: true\n",
    "- published: true\n",
    "- categories: [python, devops]\n",
    "- image: images/copied_from_nb/img/python/dh-virtualenv.png"
   ]
  },
  {
   "cell_type": "markdown",
   "metadata": {},
   "source": [
    "![Cover Image](img/python/dh-virtualenv.png)"
   ]
  },
  {
   "cell_type": "markdown",
   "metadata": {},
   "source": [
    "This post shows how to easily deploy any Python application in form of an ‘omnibus’\n",
    "Debian package, i.e. one that contains all the application's dependencies, just like\n",
    "in a Java WAR. A basic understanding of Debian packaging, the Linux command prompt,\n",
    "and Python tooling is assumed."
   ]
  },
  {
   "cell_type": "markdown",
   "metadata": {},
   "source": [
    "## Introduction\n",
    "\n",
    "In this article, I'll show how to use `dh-virtualenv` to create self-contained Debian packages to deploy a Python application. The resulting package is very similar to a *executable JAR* that you can start via `java -jar`, in that it contains all the moving parts except Python itself, without influencing or being influenced by version requirements of other applications. This also frees you from being restricted to the dependencies and their versions found on your target platforms, and makes porting to several different target environments easier."
   ]
  },
  {
   "cell_type": "markdown",
   "metadata": {},
   "source": [
    "The advantage of using a Debian package for deployment as opposed to the native Python tool chain is that you are less dependent on typical development tools and services, i.e. to deploy to QA or production environments you need neither Internet access nor any compiler suites (for extension packages). To achieve the same with direct use of `virtualenv` and `pip`, you'd need to have an in-house PyPI repository accessible from production networks, and also release any extension packages as wheels pre-built for the target platform. Removing and updating an application is also much easier with Debian packages.\n",
    "\n",
    "To use `dh-virtualenv`, you just have to extend your existing application project with a `debian` subdirectory – project meta-data like `pip` requirements and so on will be leveraged to build the final package, i.e. common tasks are delegated to the standard Python eco-system.\n",
    "\n",
    "Note that just like with any other form of omnibus packaging, you take over the responsibility to release security updates of the contained dependencies in a timely manner."
   ]
  },
  {
   "cell_type": "markdown",
   "metadata": {},
   "source": [
    "## How does it work?\n",
    "\n",
    "`dh-virtualenv` is a *debhelper* plugin that extends the normal Debian tool chain for package building with the ability to create a Python [virtualenv](https://virtualenv.pypa.io/) (an isolated Python environment), and then wrap that into the final Debian package.\n",
    "\n",
    "Depending on the details of the application, you often also have to provide some kind of configuration of the software itself, and possibly some means to run it as a service. This can be done in several ways:\n",
    "\n",
    "* add a `debian/«pkg».install` descriptor to add configuration files to the Debian package.\n",
    "* provide a Puppet recipe or Ansible playbook that deploys the package and integrates it into the system.\n",
    "* embed (default) configuration into the application's Python package (via the `include_package_data` option of `setuptools`).\n",
    "\n",
    "All those can be combined, e.g. provide defaults via Python package data, and then add external configuration that only provides values specific to the concrete host installation.\n",
    "\n",
    "A real-world example is the [devpi supervisor ERB template](https://github.com/jhermann/devpi-puppet/blob/master/templates/supervisord.conf) that serves both the purpose of passing configuration to the application process (via command line options), and also starting and controlling that process (i.e. handle demonization and automatic startup on boot)."
   ]
  },
  {
   "cell_type": "markdown",
   "metadata": {},
   "source": [
    "## Installing the build tools\n",
    "\n",
    "Unsurprisingly, you need to [install dh-virtualenv](http://dh-virtualenv.readthedocs.org/en/latest/tutorial.html#step-1-install-dh-virtualenv) to use it. Since it is architecture independant, you can choose to use a [recent release offered by Debian sid](https://packages.debian.org/sid/dh-virtualenv) whatever your build platform is.\n",
    "\n",
    "If this is your first time to build a Debian package, you also need to add the basic tools for that:\n",
    "\n",
    "```sh\n",
    "sudo apt-get install build-essential debhelper devscripts equivs\n",
    "```\n",
    "\n",
    "Finally, to take advantage of the available template for easily adding an inital `debian` directory, [install the cookiecutter tool](https://github.com/Springerle/springerle.github.io#installing-the-cookiecutter-cli). Note that you can opt to [build packages in a Docker container](https://dockyard.readthedocs.io/en/latest/packaging-howto.html) instead, with only Docker as a requirement on your build host."
   ]
  },
  {
   "cell_type": "markdown",
   "metadata": {},
   "source": [
    "## Packaging an example project\n",
    "\n",
    "To add the necessary `debian` directory with minimal effort, you can use the\n",
    "[dh-virtualenv-mold](https://github.com/Springerle/dh-virtualenv-mold#dh-virtualenv-mold)\n",
    "cookiecutter. The following commands basically repeat what the [integration test](https://github.com/Springerle/dh-virtualenv-mold/blob/master/test.sh) script of that project does, namely instantiate a Python project and then add debianization on top of it.\n",
    "\n",
    "To provide common defaults to `cookiecutter`, it makes sense to have a `~/.cookiecutterrc` file similar to [the one I use](https://github.com/jhermann/ruby-slippers/blob/master/home/.cookiecutterrc)."
   ]
  },
  {
   "cell_type": "markdown",
   "metadata": {},
   "source": [
    "Let's first create a sample project:\n",
    "\n",
    "```sh\n",
    "mkdir -p ~/tmp/dh-venv-blog\n",
    "cd ~/tmp/dh-venv-blog\n",
    "cookiecutter --no-input \\\n",
    "    \"https://github.com/borntyping/cookiecutter-pypackage-minimal.git\"\n",
    "cd cookiecutter_pypackage_minimal/\n",
    "python3 setup.py build\n",
    "```\n",
    "\n",
    "You can of course also use one of your own, then just check that out instead. Next, we add the `debian` directory:\n",
    "\n",
    "```sh\n",
    "cookiecutter --no-input \\\n",
    "    \"https://github.com/Springerle/dh-virtualenv-mold.git\"\n",
    "dch -r \"\" # insert proper date & distro\n",
    "```\n",
    "\n",
    "Using `--no-input` causes the template's defaults to be accepted – it avoids answering all the template's prompts. After all, this is just a demo not requiring sensible inputs. Take the time to have a look at what's in the `debian` directory."
   ]
  },
  {
   "cell_type": "markdown",
   "metadata": {},
   "source": [
    "You're now able to build the package and if that succeeds, print the contained meta data:\n",
    "\n",
    "```sh\n",
    "dpkg-buildpackage -uc -us -b\n",
    "dpkg-deb -I ../pyvenv-foobar_*.deb\n",
    "```\n",
    "\n",
    "The last command should show you something like this:\n",
    "\n",
    "```ini\n",
    "Package: pyvenv-foobar\n",
    "Version: 0.1.0\n",
    "Architecture: amd64\n",
    "Maintainer: Jürgen Hermann <jh@web.de>\n",
    "Installed-Size: 12877\n",
    "Pre-Depends: dpkg (>= 1.16.1), python3, python3-venv\n",
    "Section: contrib/python\n",
    "Priority: extra\n",
    "Homepage: https://github.com/jschmoe/foobar\n",
    "Description: A Python package and its dependencies packaged up as DEB in an isolated virtualenv.\n",
    "```\n",
    "\n",
    "Finally, install the new package via `dpkg -i`, or upload it to a repository and use it from there with `apt`."
   ]
  },
  {
   "cell_type": "markdown",
   "metadata": {},
   "source": [
    "## Real-world examples\n",
    "\n",
    "These are examples of `dh-virtualenv` packaging for non-trivial applications:\n",
    "\n",
    "* [devpi](https://github.com/jhermann/devpi-enterprisey/tree/master/debianized-devpi#readme)\n",
    "* [nodeenv](https://github.com/ekalinin/nodeenv/tree/master/debian-upstream)\n",
    "* [debianized-sentry](https://github.com/1and1/debianized-sentry#readme)\n",
    "* [jupyterhub](https://github.com/1and1/debianized-jupyterhub#readme)\n",
    "\n",
    "The last two show how to integrate Python web applications into `systemd`, instead of using `supervisor` like the `devpi` example. The `jupyterhub` one also demonstrates the integration of a Python project with server-side Javascript (in a NodeJS environment)."
   ]
  }
 ],
 "metadata": {
  "hide_input": false,
  "kernelspec": {
   "display_name": "Python 3",
   "language": "python",
   "name": "python3"
  },
  "language_info": {
   "codemirror_mode": {
    "name": "ipython",
    "version": 3
   },
   "file_extension": ".py",
   "mimetype": "text/x-python",
   "name": "python",
   "nbconvert_exporter": "python",
   "pygments_lexer": "ipython3",
   "version": "3.8.2"
  },
  "toc": {
   "base_numbering": 1,
   "nav_menu": {},
   "number_sections": true,
   "sideBar": true,
   "skip_h1_title": false,
   "title_cell": "Table of Contents",
   "title_sidebar": "Contents",
   "toc_cell": false,
   "toc_position": {},
   "toc_section_display": true,
   "toc_window_display": false
  },
  "varInspector": {
   "cols": {
    "lenName": 16,
    "lenType": 16,
    "lenVar": 40
   },
   "kernels_config": {
    "python": {
     "delete_cmd_postfix": "",
     "delete_cmd_prefix": "del ",
     "library": "var_list.py",
     "varRefreshCmd": "print(var_dic_list())"
    },
    "r": {
     "delete_cmd_postfix": ") ",
     "delete_cmd_prefix": "rm(",
     "library": "var_list.r",
     "varRefreshCmd": "cat(var_dic_list()) "
    }
   },
   "types_to_exclude": [
    "module",
    "function",
    "builtin_function_or_method",
    "instance",
    "_Feature"
   ],
   "window_display": false
  }
 },
 "nbformat": 4,
 "nbformat_minor": 2
}
