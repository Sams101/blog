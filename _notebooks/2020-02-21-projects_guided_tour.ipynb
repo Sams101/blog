{
 "cells": [
  {
   "cell_type": "markdown",
   "metadata": {},
   "source": [
    "# \"A Guided Tour of My Projects\"\n",
    "> \"A maintained list of my (software) projects.\"\n",
    "- author: jhermann\n",
    "- toc: true\n",
    "- branch: master\n",
    "- badges: false\n",
    "- comments: true\n",
    "- published: true\n",
    "- categories: [misc, development]\n",
    "- image: images/copied_from_nb/img/misc/ball_binary-geralt_pixabay-1280.jpg"
   ]
  },
  {
   "cell_type": "markdown",
   "metadata": {},
   "source": [
    "> 🚧 *This article is work in progress, and is [updated regularly][1] with new content.*\n",
    "\n",
    "[1]: https://github.com/jhermann/blog/commits/master/_notebooks/2020%2d02%2d21%2dprojects_guided_tour%2eipynb"
   ]
  },
  {
   "cell_type": "markdown",
   "metadata": {},
   "source": [
    "![](img/misc/ball_binary-geralt_pixabay-1280.jpg)"
   ]
  },
  {
   "cell_type": "markdown",
   "metadata": {},
   "source": [
    "## For Python Developers\n",
    "\n",
    "The [Springerle](https://github.com/Springerle) GitHub organization is a collection of [cookiecutter project templates](https://github.com/cookiecutter), with templates for these types of project: \n",
    "\n",
    "* single-file scripts ([py-minimal-script](https://github.com/Springerle/py-minimal-script)),\n",
    "* fully equipped packages and applications ([py-generic-project](https://github.com/Springerle/py-generic-project)),\n",
    "* DEB packaging of existing projects ([dh-virtualenv-mold](https://github.com/Springerle/dh-virtualenv-mold) · [debianized-pypi-mold](https://github.com/Springerle/debianized-pypi-mold)),\n",
    "* and more.\n",
    "\n",
    "Fundamental elements for any Python project, like configuration handling, are in the [rudiments](https://github.com/jhermann/rudiments) package It is used for runtime support in the *Springerle* templates mentioned above.\n",
    "\n",
    "On the project automation side of things, [rituals](https://github.com/jhermann/rituals) is a library of *Invoke* tasks that are needed again and again. The *Springerle* templates use it to add management tasks that are updateable via ``pip``, independently of the template.\n",
    "\n",
    "[dependency-check-py](https://github.com/jhermann/dependency-check-py) is a shim to easily install [OWASP dependency-check-cli](https://jeremylong.github.io/DependencyCheck/dependency-check-cli/arguments.html) into Python projects, by adding it to your requirements.\n",
    "\n",
    "The collection of Jupyter notebooks in [whats-new-in-python3](https://github.com/jhermann/whats-new-in-python3) summarize the *“What's new in Python3?”* documentation, with live code in the notebooks. Right now, it is unfinished and work in progress."
   ]
  },
  {
   "cell_type": "markdown",
   "metadata": {},
   "source": [
    "## Data Science & Jupyter\n",
    "\n",
    "[jupyter-by-example](https://github.com/jhermann/jupyter-by-example) has learning resources and practical tips on how to use Jupyter notebooks for fun & profit. The [Today I Learned about Data Science…](https://github.com/jhermann/til-about-data-science/wiki#today-i-learned-about-data-science) wiki contains similar information, with an extended scope (beyond Jupyter).\n",
    "\n",
    "See also the `debianized-jupyterhub` project further below."
   ]
  },
  {
   "cell_type": "markdown",
   "metadata": {},
   "source": [
    "## Software Design & Architecture\n",
    "\n",
    "In [c4-notation](https://github.com/1and1/c4-notation) I collect technical resources about using the C4 model for visualizing software architecture. This is so far rather small and unfinished. See also my [Diagrams as Code](https://github.com/jhermann/jhermann.github.io/wiki/Diagrams-as-Code) wiki page for similar resources."
   ]
  },
  {
   "cell_type": "markdown",
   "metadata": {},
   "source": [
    "## Debian Packages\n",
    "\n",
    "I'm a contributor to [dh-virtualenv](https://github.com/spotify/dh-virtualenv), and I use it for all my Debian packaging needs. Especially when it comes to deploying applications with lots of dependencies, or services needing tight integration with the host (i.e. systemd units). For pure command line tools, [pex](https://github.com/pantsbuild/pex) and [shiv](https://github.com/linkedin/shiv) can be a better alternative.\n",
    "\n",
    "There are several projects using *dh-virtualenv* as the basic packaging tool:\n",
    "\n",
    "* [1and1/debianized-jupyterhub](https://github.com/1and1/debianized-jupyterhub) packages  JupyterHub, a multi-user server for Jupyter notebooks, It also comes with a Python3 kernel, populated with an extensive data science stack.\n",
    "* [1and1/debianized-sentry](https://github.com/1and1/debianized-sentry) puts all *sentry.io* 9.x services into one package using systemd as a supervisor, you just need to add a PostgreSQL databasse.\n",
    "* [devpi-enterprisey/debianized-devpi](https://github.com/jhermann/devpi-enterprisey/tree/master/debianized-devpi) allows easy deployment of the *devpi* package repository and proxy. This doesn't get updated that often, it basically chugs along silently on my workstations, speeding up virtualenv creation and allowing off-line work.\n",
    "\n",
    "Note that these are typically [built in a Docker container](https://dockyard.readthedocs.io/en/latest/packaging-howto.html#dpkg-in-docker).\n",
    "\n",
    "See the [For Python Developers](https://jhermann.github.io/blog/misc/development/2020/02/21/projects_guided_tour.html#For-Python-Developers) section on how to easily roll your own projects of this type. The [dput-webdav plugin](https://github.com/jhermann/artifactory-debian/tree/master/dput-webdav#readme) then allows you to use ``dput`` to comfortably upload created packages to a WebDAV repository like Artifactory (BinTray).\n",
    "\n",
    "Also check out [(Dead) Snakes on a… Debian System](https://jhermann.github.io/blog/python/deployment/2020/02/26/deadsnakes_on_debian.html) for being able to install newer Python versions on all major Debian-like releases."
   ]
  },
  {
   "cell_type": "markdown",
   "metadata": {},
   "source": [
    "## Docker & Kubernetes\n",
    "\n",
    "[dockyard](https://github.com/jhermann/dockyard) offers basic Dockerfile templates and other Docker build helpers. It contains some experiments regarding [Python base images](https://dockyard.readthedocs.io/en/latest/python-images.html), shows how to [build Debian packages within a container](https://dockyard.readthedocs.io/en/latest/packaging-howto.html) for repeatable builds, and comes with [extensive documentation](https://dockyard.readthedocs.io/en/latest/index.html) also showing how to optimize your Dockerfiles."
   ]
  },
  {
   "cell_type": "markdown",
   "metadata": {},
   "source": [
    "## Miscellaneous\n",
    "\n",
    "The README of [awesome-python-talks](https://github.com/jhermann/awesome-python-talks) is an opinionated list of videos related to Python, with a focus on training and gaining hands-on experience. The [awesome-tech-talks](https://github.com/1and1/awesome-tech-talks) repository is very similar, but about software development and general IT topics.\n",
    "\n",
    "[confluencer](https://github.com/1and1/confluencer) contains a CLI tool that automates common *Atlassian Confluence* maintenance tasks and content publishing.\n",
    "\n",
    "There's no place like home… [ruby-slippers](https://github.com/jhermann/ruby-slippers) is my dotfiles repository (and I found “dotfiles” way too boring as a name). It also includes setup scripts for installing a bunch of developer tools and packages.\n"
   ]
  }
 ],
 "metadata": {
  "hide_input": false,
  "kernelspec": {
   "display_name": "Python 3",
   "language": "python",
   "name": "python3"
  },
  "language_info": {
   "codemirror_mode": {
    "name": "ipython",
    "version": 3
   },
   "file_extension": ".py",
   "mimetype": "text/x-python",
   "name": "python",
   "nbconvert_exporter": "python",
   "pygments_lexer": "ipython3",
   "version": "3.8.1"
  },
  "toc": {
   "base_numbering": 1,
   "nav_menu": {},
   "number_sections": true,
   "sideBar": true,
   "skip_h1_title": false,
   "title_cell": "Table of Contents",
   "title_sidebar": "Contents",
   "toc_cell": false,
   "toc_position": {},
   "toc_section_display": true,
   "toc_window_display": false
  },
  "varInspector": {
   "cols": {
    "lenName": 16,
    "lenType": 16,
    "lenVar": 40
   },
   "kernels_config": {
    "python": {
     "delete_cmd_postfix": "",
     "delete_cmd_prefix": "del ",
     "library": "var_list.py",
     "varRefreshCmd": "print(var_dic_list())"
    },
    "r": {
     "delete_cmd_postfix": ") ",
     "delete_cmd_prefix": "rm(",
     "library": "var_list.r",
     "varRefreshCmd": "cat(var_dic_list()) "
    }
   },
   "types_to_exclude": [
    "module",
    "function",
    "builtin_function_or_method",
    "instance",
    "_Feature"
   ],
   "window_display": false
  }
 },
 "nbformat": 4,
 "nbformat_minor": 4
}
