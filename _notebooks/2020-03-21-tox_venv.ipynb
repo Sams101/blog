{
 "cells": [
  {
   "cell_type": "markdown",
   "metadata": {},
   "source": [
    "# \"Using Python3's ‘venv’ with tox\"\n",
    "> \"Using the built-in Python module in favor of virtualenv to create your testing or project automation environments.\"\n",
    "- author: jhermann\n",
    "- toc: false\n",
    "- branch: master\n",
    "- badges: true\n",
    "- comments: true\n",
    "- published: true\n",
    "- categories: [python, testing]\n",
    "- image: images/copied_from_nb/img/python/tox-venv.png"
   ]
  },
  {
   "cell_type": "markdown",
   "metadata": {},
   "source": [
    "![Cover Image](img/python/tox-venv.png)"
   ]
  },
  {
   "cell_type": "markdown",
   "metadata": {},
   "source": [
    "`tox` is a generic virtualenv management and test command line tool, especially useful for multi-environment testing. It has a plugin architecture, with plenty of both built-in and 3rd party extensions. \n",
    "\n",
    "This post assumes you are already familiar with `tox` and have a working configuration for it. If not, check out [its documentation](https://tox.readthedocs.io/)."
   ]
  },
  {
   "cell_type": "markdown",
   "metadata": {},
   "source": [
    "In order to make `tox` use the built-in virtual environment `venv` of Python 3.3+, there is a plugin named [tox-venv](https://pypi.org/project/tox-venv/) that switches from using `virtualenv` to `venv` whenever it is available.\n",
    "\n",
    "Typically, `venv` is more robust when faced with ever-changing runtime environments and versions of related tooling (`pip`, `setuptools`, …)."
   ]
  },
  {
   "cell_type": "markdown",
   "metadata": {},
   "source": [
    "To enable that plugin, add this to your `tox.ini`:\n",
    "\n",
    "```ini\n",
    "[tox]\n",
    "requires = tox-venv\n",
    "```\n",
    "\n",
    "That merely triggers `tox` to check (on startup) that the plugin is installed. You still have to add it to your `dev-requirements.txt` or a similar file, so it gets installed together with `tox`. You can also install `tox` globally using `dephell jail install tox tox-venv` – see the [related post](https://jhermann.github.io/blog/python/deployment/2020/03/03/install_tools_with_dephell.html) in this blog for details.\n",
    "\n",
    "The end result is this (call `tox -v` to see those messages):\n",
    "\n",
    "```\n",
    "py38 create: …/.tox/py38\n",
    "  …/.tox$ /usr/bin/python3.8 -m venv py38 >…/log/py38-0.log\n",
    "```\n",
    "\n",
    "And there you have it, no more virtualenv package needed. 🎉 🎊"
   ]
  }
 ],
 "metadata": {
  "hide_input": false,
  "kernelspec": {
   "display_name": "Python 3",
   "language": "python",
   "name": "python3"
  },
  "language_info": {
   "codemirror_mode": {
    "name": "ipython",
    "version": 3
   },
   "file_extension": ".py",
   "mimetype": "text/x-python",
   "name": "python",
   "nbconvert_exporter": "python",
   "pygments_lexer": "ipython3",
   "version": "3.8.2"
  },
  "toc": {
   "base_numbering": 1,
   "nav_menu": {},
   "number_sections": true,
   "sideBar": true,
   "skip_h1_title": false,
   "title_cell": "Table of Contents",
   "title_sidebar": "Contents",
   "toc_cell": false,
   "toc_position": {},
   "toc_section_display": true,
   "toc_window_display": false
  },
  "varInspector": {
   "cols": {
    "lenName": 16,
    "lenType": 16,
    "lenVar": 40
   },
   "kernels_config": {
    "python": {
     "delete_cmd_postfix": "",
     "delete_cmd_prefix": "del ",
     "library": "var_list.py",
     "varRefreshCmd": "print(var_dic_list())"
    },
    "r": {
     "delete_cmd_postfix": ") ",
     "delete_cmd_prefix": "rm(",
     "library": "var_list.r",
     "varRefreshCmd": "cat(var_dic_list()) "
    }
   },
   "types_to_exclude": [
    "module",
    "function",
    "builtin_function_or_method",
    "instance",
    "_Feature"
   ],
   "window_display": false
  }
 },
 "nbformat": 4,
 "nbformat_minor": 2
}
