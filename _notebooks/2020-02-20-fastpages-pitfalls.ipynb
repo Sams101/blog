{
 "cells": [
  {
   "cell_type": "markdown",
   "metadata": {},
   "source": [
    "# \"fastpages: Pitfalls, Tips & Tricks\"\n",
    "> \"What you need to know to be productive and have a good user experience.\"\n",
    "- author: jhermann\n",
    "- toc: true\n",
    "- branch: master\n",
    "- badges: true\n",
    "- comments: true\n",
    "- categories: [\"how-to\", fastpages]\n",
    "- image: images/logo.png"
   ]
  },
  {
   "cell_type": "markdown",
   "metadata": {},
   "source": [
    "> 🆕 📝 *This article is [updated regularly][1] with new information as it is discovered.*\n",
    "\n",
    "[1]: https://github.com/jhermann/blog/commits/master/_notebooks/2020-02-20-fastpages-pitfalls.ipynb"
   ]
  },
  {
   "cell_type": "markdown",
   "metadata": {},
   "source": [
    "## Introduction\n",
    "\n",
    "[`fastpages`](https://github.com/fastai/fastpages) will automatically convert [Jupyter](https://jupyter.org/) Notebooks saved into the `_notebooks` directory as blog posts!\n",
    "\n",
    "You must save your notebook with the naming convention `YYYY-MM-DD-*.ipynb`. Otherwise the file's modification time is used, but that is not something you should rely on.\n",
    "\n",
    "See [Writing Blog Posts With Jupyter](https://github.com/fastai/fastpages#writing-blog-posts-with-jupyter) for more details on special markup features."
   ]
  },
  {
   "cell_type": "markdown",
   "metadata": {},
   "source": [
    "## Things to Consider\n",
    "\n",
    " * Isolate the title, subtitle, and metadata into their own cell (the first one).\n",
    " * **Always** quote your title and sub-title. Also quote any categories that are not purely alpha-numerical-with-hyphens.\n",
    " * Add author information to your pages, so the Atom feed has it – [Adding authors to your Jekyll site](https://blog.sorryapp.com/blogging-with-jekyll/2014/02/06/adding-authors-to-your-jekyll-site.html).\n",
    " * Categories are hierarchical and become part of the final URL – so give them a reasonable order (from generic to specific), have a consistent scheme for the site as a whole, and do not change them after publishing, otherwise you'll break people's links.\n",
    " * For dual-use images (referenced in notebook contents *and* metadata), place the image in the `_notebooks` folder (or a sub-folder), use the relative path there in your notebook, and *prefix* that path for the `image:` attribute with `images/copied_from_nb/`.\n",
    " * Categories must be listed in a bracketed list – you cannot make it multi-line.\n",
    " * Do not use today's date in filenames if you plan to publish soonish – timezone differences to the build machines will possibly make your article disappear from the generated index. *(fixed in template)*\n",
    " * This is a bit subjective, but I recommend to [get yourself a local installation of JupyterHub](https://github.com/1and1/debianized-jupyterhub#what-is-this) and use that exclusively as your “fastpages IDE” – that means just ignore plain markdown files and do everything with notebooks.\n"
   ]
  },
  {
   "cell_type": "markdown",
   "metadata": {},
   "source": [
    "## How-Tos\n",
    "\n",
    "### Updating the fastpages Template\n",
    "\n",
    "To get changes from upstream, check out your own copy of the template project.\n",
    "\n",
    "To catch up for the first time, find the `Initial commit` in *your* blog repository, then make sure there are no commits after the time of that commit in the template. If there are, find the last commit before that date (the last one you already have), and use its SHA for a range `«sha»..HEAD` in the update procedure that follows, starting with the `git diff`.\n",
    "\n",
    "Now to catch up, when you `git pull --ff-only` in the template, there is a line starting with `Updating` and a SHA range. Call `git diff «sha-range» >/tmp/fastpages.patch`.\n",
    "\n",
    "Change to *your* blog repository workdir (make sure you have a clean workdir with no pending changes) and apply that patch: `patch -N -p1 </tmp/fastpages.patch`. Look out for patch rejects and resolve any conflicts. Finally commit the template changes, ideally mentioning the SHA range in the commit message for record-keeping ([example](https://github.com/jhermann/blog/commit/051441e8020331ce29c9138633dc63ee275f2a84)).\n",
    "\n",
    "Instead of using `patch`, you can also open a branch for upstream changes, `git pull --ff-only upstream/master` any updates into that branch, and then `git merge` that branch into `master`. This way, git does all the house-keeping and memorizing of SHAs."
   ]
  },
  {
   "cell_type": "markdown",
   "metadata": {},
   "source": [
    "## Troubleshooting\n",
    "\n",
    "### Article is not in the Index\n",
    "\n",
    "See above hint regarding dates in the (near) future, and timezone differences between localhost and the cloud.\n",
    "\n",
    "### Index Entry is Missing Most Fields\n",
    "\n",
    "When an entry appears mostly empty, there is some metadata problem: missing quotes, improper YAML syntax, etc.\n",
    "\n",
    "Backtrack your changes in the git history, and never change metadata in bulk, so you can isolate the problem. And wait for a successful build after each change."
   ]
  }
 ],
 "metadata": {
  "hide_input": false,
  "kernelspec": {
   "display_name": "Python 3",
   "language": "python",
   "name": "python3"
  },
  "language_info": {
   "codemirror_mode": {
    "name": "ipython",
    "version": 3
   },
   "file_extension": ".py",
   "mimetype": "text/x-python",
   "name": "python",
   "nbconvert_exporter": "python",
   "pygments_lexer": "ipython3",
   "version": "3.8.1"
  },
  "toc": {
   "base_numbering": 1,
   "nav_menu": {},
   "number_sections": true,
   "sideBar": true,
   "skip_h1_title": false,
   "title_cell": "Table of Contents",
   "title_sidebar": "Contents",
   "toc_cell": false,
   "toc_position": {},
   "toc_section_display": true,
   "toc_window_display": false
  },
  "varInspector": {
   "cols": {
    "lenName": 16,
    "lenType": 16,
    "lenVar": 40
   },
   "kernels_config": {
    "python": {
     "delete_cmd_postfix": "",
     "delete_cmd_prefix": "del ",
     "library": "var_list.py",
     "varRefreshCmd": "print(var_dic_list())"
    },
    "r": {
     "delete_cmd_postfix": ") ",
     "delete_cmd_prefix": "rm(",
     "library": "var_list.r",
     "varRefreshCmd": "cat(var_dic_list()) "
    }
   },
   "types_to_exclude": [
    "module",
    "function",
    "builtin_function_or_method",
    "instance",
    "_Feature"
   ],
   "window_display": false
  }
 },
 "nbformat": 4,
 "nbformat_minor": 4
}
