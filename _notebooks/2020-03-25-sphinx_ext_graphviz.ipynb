{
 "cells": [
  {
   "cell_type": "markdown",
   "metadata": {},
   "source": [
    "# Embedding Graphs Into Your Sphinx Documents\n",
    "> \"Embed GraphViz ‘dot language’ graphs into your documentation, and hot-link the nodes to any HTTP resource.\"\n",
    "- author: jhermann\n",
    "- toc: false\n",
    "- branch: master\n",
    "- badges: true\n",
    "- comments: true\n",
    "- published: true\n",
    "- categories: [python, documentation]\n",
    "- image: images/copied_from_nb/img/python/sphinx-ext-graphviz.png"
   ]
  },
  {
   "cell_type": "markdown",
   "metadata": {},
   "source": [
    "![Cover Image](img/python/sphinx-ext-graphviz.png)"
   ]
  },
  {
   "cell_type": "markdown",
   "metadata": {},
   "source": [
    "The [sphinx.ext.graphviz](https://www.sphinx-doc.org/en/master/usage/extensions/graphviz.html) extension allows you to directly embed GraphViz ‘dot language’ graphs into your document files. They are then rendered to PNG or SVG images, which get added to your generated HTML documentation. Using SVG allows you to hot-link your nodes to any HTTP resource."
   ]
  },
  {
   "cell_type": "markdown",
   "metadata": {},
   "source": [
    "Before use, you have to activate the extension with just a few changes to your `docs/conf.py`:\n",
    "\n",
    "```python\n",
    "extensions = [\n",
    "    # …\n",
    "    'sphinx.ext.graphviz',\n",
    "]\n",
    "\n",
    "# …\n",
    "\n",
    "# -- GraphViz configuration ----------------------------------\n",
    "graphviz_output_format = 'svg'\n",
    "```"
   ]
  },
  {
   "cell_type": "markdown",
   "metadata": {},
   "source": [
    "This is an example for what you can then add to your documentation:\n",
    "\n",
    "![Sphinx and GraphViz Data Flow](img/python/sphinx-ext-graphviz-sample.svg)\n",
    "\n",
    "As long as the nodes have a `href` attribute, the SVG rendering contains them and thus node labels become clickable hyperlinks."
   ]
  },
  {
   "cell_type": "markdown",
   "metadata": {},
   "source": [
    "And here's the related markup that needs to be added to one of your `.rst` files:\n",
    "\n",
    "```rst\n",
    ".. graphviz::\n",
    "    :name: sphinx.ext.graphviz\n",
    "    :caption: Sphinx and GraphViz Data Flow\n",
    "    :alt: How Sphinx and GraphViz Render the Final Document\n",
    "    :align: center\n",
    "\n",
    "     digraph \"sphinx-ext-graphviz\" {\n",
    "         size=\"6,4\";\n",
    "         rankdir=\"LR\";\n",
    "         graph [fontname=\"Verdana\", fontsize=\"12\"];\n",
    "         node [fontname=\"Verdana\", fontsize=\"12\"];\n",
    "         edge [fontname=\"Sans\", fontsize=\"9\"];\n",
    "\n",
    "         sphinx [label=\"Sphinx\", shape=\"component\",\n",
    "                   href=\"https://www.sphinx-doc.org/\",\n",
    "                   target=\"_blank\"];\n",
    "         dot [label=\"GraphViz\", shape=\"component\",\n",
    "              href=\"https://www.graphviz.org/\",\n",
    "              target=\"_blank\"];\n",
    "         docs [label=\"Docs (.rst)\", shape=\"folder\",\n",
    "               fillcolor=green, style=filled];\n",
    "         svg_file [label=\"SVG Image\", shape=\"note\", fontcolor=white,\n",
    "                 fillcolor=\"#3333ff\", style=filled];\n",
    "         html_files [label=\"HTML Files\", shape=\"folder\",\n",
    "              fillcolor=yellow, style=filled];\n",
    "\n",
    "         docs -> sphinx [label=\" parse \"];\n",
    "         sphinx -> dot [label=\" call \", style=dashed, arrowhead=none];\n",
    "         dot -> svg_file [label=\" draw \"];\n",
    "         sphinx -> html_files [label=\" render \"];\n",
    "         svg_file -> html_files [style=dashed];\n",
    "     }\n",
    "```\n",
    "\n",
    "For all this to work, you need the [GraphViz suite of tools](https://www.graphviz.org/) installed on the machine that renders the documentation."
   ]
  }
 ],
 "metadata": {
  "hide_input": false,
  "kernelspec": {
   "display_name": "Python 3",
   "language": "python",
   "name": "python3"
  },
  "language_info": {
   "codemirror_mode": {
    "name": "ipython",
    "version": 3
   },
   "file_extension": ".py",
   "mimetype": "text/x-python",
   "name": "python",
   "nbconvert_exporter": "python",
   "pygments_lexer": "ipython3",
   "version": "3.8.2"
  },
  "toc": {
   "base_numbering": 1,
   "nav_menu": {},
   "number_sections": true,
   "sideBar": true,
   "skip_h1_title": false,
   "title_cell": "Table of Contents",
   "title_sidebar": "Contents",
   "toc_cell": false,
   "toc_position": {},
   "toc_section_display": true,
   "toc_window_display": false
  },
  "varInspector": {
   "cols": {
    "lenName": 16,
    "lenType": 16,
    "lenVar": 40
   },
   "kernels_config": {
    "python": {
     "delete_cmd_postfix": "",
     "delete_cmd_prefix": "del ",
     "library": "var_list.py",
     "varRefreshCmd": "print(var_dic_list())"
    },
    "r": {
     "delete_cmd_postfix": ") ",
     "delete_cmd_prefix": "rm(",
     "library": "var_list.r",
     "varRefreshCmd": "cat(var_dic_list()) "
    }
   },
   "types_to_exclude": [
    "module",
    "function",
    "builtin_function_or_method",
    "instance",
    "_Feature"
   ],
   "window_display": false
  }
 },
 "nbformat": 4,
 "nbformat_minor": 2
}
