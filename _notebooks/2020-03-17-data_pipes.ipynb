{
 "cells": [
  {
   "cell_type": "markdown",
   "metadata": {},
   "source": [
    "# \"Using R-style Data Pipelines in Notebooks\"\n",
    "> \"Mutate Pandas data frames simply and elegantly with data pipelines.\"\n",
    "- author: jhermann\n",
    "- toc: false\n",
    "- branch: master\n",
    "- badges: true\n",
    "- comments: true\n",
    "- published: true\n",
    "- categories: [python, data-science]\n",
    "- image: images/copied_from_nb/img/data-science/data-pipes.png"
   ]
  },
  {
   "cell_type": "markdown",
   "metadata": {},
   "source": [
    "![Cover Image](img/data-science/data-pipes.png)"
   ]
  },
  {
   "cell_type": "markdown",
   "metadata": {},
   "source": [
    "## Overview\n",
    "This post shows how mutating data frames can be written more elegantly (and thus understood more easily) by using *data pipelines*. R users know this concept from the `dplyr` package, and Python offers a similar one named `dfply`."
   ]
  },
  {
   "cell_type": "markdown",
   "metadata": {},
   "source": [
    "## Setting the Stage\n",
    "We start off with some global definitions…"
   ]
  },
  {
   "cell_type": "code",
   "execution_count": 1,
   "metadata": {
    "scrolled": true
   },
   "outputs": [],
   "source": [
    "import numpy as np\n",
    "import pandas as pd"
   ]
  },
  {
   "cell_type": "markdown",
   "metadata": {},
   "source": [
    "The sample data (about OS package deployments) is read into the `raw_data` dataframe from a CSV file."
   ]
  },
  {
   "cell_type": "code",
   "execution_count": 2,
   "metadata": {},
   "outputs": [
    {
     "name": "stdout",
     "output_type": "stream",
     "text": [
      "♯ of Records: 146\n",
      "\n",
      "Distribution = ['Debian 8.11', 'Debian 8.6', 'Debian 8.9', 'jessie']\n",
      "Architecture = ['amd64']\n",
      "Environment = ['', 'Canary', 'DEV', 'LIVE', 'QA']\n",
      "Team = ['Automation', 'Big Data', 'Email', 'Ops App1', 'Ops Linux', 'Persistence', 'Platform']\n",
      "Installed version = ['41.15-2(amd64)', '42.28-2(amd64)', '42.44-1(amd64)', '45.11-1(amd64)', '48.33-1(amd64)']\n"
     ]
    },
    {
     "data": {
      "text/html": [
       "<div>\n",
       "<style scoped>\n",
       "    .dataframe tbody tr th:only-of-type {\n",
       "        vertical-align: middle;\n",
       "    }\n",
       "\n",
       "    .dataframe tbody tr th {\n",
       "        vertical-align: top;\n",
       "    }\n",
       "\n",
       "    .dataframe thead th {\n",
       "        text-align: right;\n",
       "    }\n",
       "</style>\n",
       "<table border=\"1\" class=\"dataframe\">\n",
       "  <thead>\n",
       "    <tr style=\"text-align: right;\">\n",
       "      <th></th>\n",
       "      <th>0</th>\n",
       "      <th>1</th>\n",
       "      <th>2</th>\n",
       "    </tr>\n",
       "  </thead>\n",
       "  <tbody>\n",
       "    <tr>\n",
       "      <th>CMDB_Id</th>\n",
       "      <td>274656589</td>\n",
       "      <td>153062618</td>\n",
       "      <td>282201163</td>\n",
       "    </tr>\n",
       "    <tr>\n",
       "      <th>Distribution</th>\n",
       "      <td>jessie</td>\n",
       "      <td>jessie</td>\n",
       "      <td>jessie</td>\n",
       "    </tr>\n",
       "    <tr>\n",
       "      <th>Architecture</th>\n",
       "      <td>amd64</td>\n",
       "      <td>amd64</td>\n",
       "      <td>amd64</td>\n",
       "    </tr>\n",
       "    <tr>\n",
       "      <th>Environment</th>\n",
       "      <td>DEV</td>\n",
       "      <td>DEV</td>\n",
       "      <td>LIVE</td>\n",
       "    </tr>\n",
       "    <tr>\n",
       "      <th>Team</th>\n",
       "      <td>Ops App1</td>\n",
       "      <td>Ops App1</td>\n",
       "      <td>Ops App1</td>\n",
       "    </tr>\n",
       "    <tr>\n",
       "      <th>Last seen</th>\n",
       "      <td>2019-02-18 11:43</td>\n",
       "      <td>2019-02-18 11:56</td>\n",
       "      <td>2019-02-18 12:04</td>\n",
       "    </tr>\n",
       "    <tr>\n",
       "      <th>Last modified</th>\n",
       "      <td>2019-02-18 11:43</td>\n",
       "      <td>2019-02-18 11:56</td>\n",
       "      <td>2019-02-18 12:04</td>\n",
       "    </tr>\n",
       "    <tr>\n",
       "      <th>Installed version</th>\n",
       "      <td>42.28-2(amd64)</td>\n",
       "      <td>42.28-2(amd64)</td>\n",
       "      <td>48.33-1(amd64)</td>\n",
       "    </tr>\n",
       "  </tbody>\n",
       "</table>\n",
       "</div>"
      ],
      "text/plain": [
       "                                  0                 1                 2\n",
       "CMDB_Id                   274656589         153062618         282201163\n",
       "Distribution                 jessie            jessie            jessie\n",
       "Architecture                  amd64             amd64             amd64\n",
       "Environment                     DEV               DEV              LIVE\n",
       "Team                       Ops App1          Ops App1          Ops App1\n",
       "Last seen          2019-02-18 11:43  2019-02-18 11:56  2019-02-18 12:04\n",
       "Last modified      2019-02-18 11:43  2019-02-18 11:56  2019-02-18 12:04\n",
       "Installed version    42.28-2(amd64)    42.28-2(amd64)    48.33-1(amd64)"
      ]
     },
     "execution_count": 2,
     "metadata": {},
     "output_type": "execute_result"
    }
   ],
   "source": [
    "raw_data = pd.read_csv(\"../assets/data/cmdb-packages.csv\", sep=',')\n",
    "\n",
    "print('♯ of Records: {}\\n'.format(len(raw_data)))\n",
    "\n",
    "for name in raw_data.columns[1:]:\n",
    "    if not name.startswith('Last '):\n",
    "        print(name, '=', list(sorted(set(raw_data[name].fillna('')))))\n",
    "\n",
    "raw_data.head(3).transpose()"
   ]
  },
  {
   "cell_type": "code",
   "execution_count": 3,
   "metadata": {},
   "outputs": [],
   "source": [
    "def map_distro(name):\n",
    "    \"\"\"Helper to create canonical OS names.\"\"\"\n",
    "    return (name.split('.', 1)[0]\n",
    "        .replace('Debian 7', 'wheezy')\n",
    "        .replace('Debian 8', 'jessie')\n",
    "        .replace('Debian 9', 'stretch')\n",
    "        .replace('Debian 10', 'buster')\n",
    "        .replace('squeeze', 'Squeeze [6]')\n",
    "        .replace('wheezy', 'Wheezy [7]')\n",
    "        .replace('jessie', 'Jessie [8]')\n",
    "        .replace('stretch', 'Stretch [9]')\n",
    "        .replace('buster', 'Buster [10]')\n",
    "    )"
   ]
  },
  {
   "cell_type": "markdown",
   "metadata": {},
   "source": [
    "## Data Cleaning With Pandas\n",
    "\n",
    "This code cleans up the imported data using the *Pandas* API.\n",
    "\n",
    "To get sensible version statistics, we split off the auxiliary information in the version column (anything after `-`), leaving just the *upstream* part of the version string. The environment classifier is also cleaned up a little, and distributions are mapped to a canonical set of names. Some unused columns are dropped.\n",
    "\n",
    "Finally, a subset of unique version samples is selected."
   ]
  },
  {
   "cell_type": "code",
   "execution_count": 4,
   "metadata": {},
   "outputs": [
    {
     "data": {
      "text/html": [
       "<div>\n",
       "<style scoped>\n",
       "    .dataframe tbody tr th:only-of-type {\n",
       "        vertical-align: middle;\n",
       "    }\n",
       "\n",
       "    .dataframe tbody tr th {\n",
       "        vertical-align: top;\n",
       "    }\n",
       "\n",
       "    .dataframe thead th {\n",
       "        text-align: right;\n",
       "    }\n",
       "</style>\n",
       "<table border=\"1\" class=\"dataframe\">\n",
       "  <thead>\n",
       "    <tr style=\"text-align: right;\">\n",
       "      <th></th>\n",
       "      <th>0</th>\n",
       "      <th>2</th>\n",
       "      <th>26</th>\n",
       "      <th>45</th>\n",
       "      <th>62</th>\n",
       "    </tr>\n",
       "  </thead>\n",
       "  <tbody>\n",
       "    <tr>\n",
       "      <th>Distribution</th>\n",
       "      <td>Jessie [8]</td>\n",
       "      <td>Jessie [8]</td>\n",
       "      <td>Jessie [8]</td>\n",
       "      <td>Jessie [8]</td>\n",
       "      <td>Jessie [8]</td>\n",
       "    </tr>\n",
       "    <tr>\n",
       "      <th>Architecture</th>\n",
       "      <td>amd64</td>\n",
       "      <td>amd64</td>\n",
       "      <td>amd64</td>\n",
       "      <td>amd64</td>\n",
       "      <td>amd64</td>\n",
       "    </tr>\n",
       "    <tr>\n",
       "      <th>Environment</th>\n",
       "      <td>DEV</td>\n",
       "      <td>LIVE</td>\n",
       "      <td>LIVE</td>\n",
       "      <td>UNDEFINED</td>\n",
       "      <td>DEV</td>\n",
       "    </tr>\n",
       "    <tr>\n",
       "      <th>Team</th>\n",
       "      <td>Ops App1</td>\n",
       "      <td>Ops App1</td>\n",
       "      <td>Platform</td>\n",
       "      <td>Email</td>\n",
       "      <td>Platform</td>\n",
       "    </tr>\n",
       "    <tr>\n",
       "      <th>Version</th>\n",
       "      <td>42.28</td>\n",
       "      <td>48.33</td>\n",
       "      <td>41.15</td>\n",
       "      <td>45.11</td>\n",
       "      <td>42.44</td>\n",
       "    </tr>\n",
       "  </tbody>\n",
       "</table>\n",
       "</div>"
      ],
      "text/plain": [
       "                      0           2           26          45          62\n",
       "Distribution  Jessie [8]  Jessie [8]  Jessie [8]  Jessie [8]  Jessie [8]\n",
       "Architecture       amd64       amd64       amd64       amd64       amd64\n",
       "Environment          DEV        LIVE        LIVE   UNDEFINED         DEV\n",
       "Team            Ops App1    Ops App1    Platform       Email    Platform\n",
       "Version            42.28       48.33       41.15       45.11       42.44"
      ]
     },
     "execution_count": 4,
     "metadata": {},
     "output_type": "execute_result"
    }
   ],
   "source": [
    "data = raw_data\n",
    "data = data.assign(Version=data['Installed version'].str.split('-', 1, expand=True)[0])\n",
    "data = data.assign(Environment=data.Environment.fillna('UNDEFINED').str.upper())\n",
    "data = data.assign(Distribution=data.Distribution.apply(map_distro))\n",
    "data = data.drop(columns=['CMDB_Id', 'Last seen', 'Last modified', 'Installed version'])\n",
    "data = data.drop_duplicates(subset='Version', keep='first')\n",
    "\n",
    "data.transpose()"
   ]
  },
  {
   "cell_type": "markdown",
   "metadata": {},
   "source": [
    "## Data Cleaning With Pipelines\n",
    "\n",
    "This does the exact same processing as the code above, but is arguably more readable and maintained more easily:\n",
    "\n",
    "* It has less boilerplate, and makes the use of pipelined processing transparent.\n",
    "* Each step clearly states what it does to the data.\n",
    "* When steps are copied into other pipelines, the `X` placeholder ensures you use the data of *this* pipeline (the code is more DRY).."
   ]
  },
  {
   "cell_type": "code",
   "execution_count": 5,
   "metadata": {},
   "outputs": [
    {
     "data": {
      "text/html": [
       "<div>\n",
       "<style scoped>\n",
       "    .dataframe tbody tr th:only-of-type {\n",
       "        vertical-align: middle;\n",
       "    }\n",
       "\n",
       "    .dataframe tbody tr th {\n",
       "        vertical-align: top;\n",
       "    }\n",
       "\n",
       "    .dataframe thead th {\n",
       "        text-align: right;\n",
       "    }\n",
       "</style>\n",
       "<table border=\"1\" class=\"dataframe\">\n",
       "  <thead>\n",
       "    <tr style=\"text-align: right;\">\n",
       "      <th></th>\n",
       "      <th>0</th>\n",
       "      <th>2</th>\n",
       "      <th>26</th>\n",
       "      <th>45</th>\n",
       "      <th>62</th>\n",
       "    </tr>\n",
       "  </thead>\n",
       "  <tbody>\n",
       "    <tr>\n",
       "      <th>Distribution</th>\n",
       "      <td>Jessie [8]</td>\n",
       "      <td>Jessie [8]</td>\n",
       "      <td>Jessie [8]</td>\n",
       "      <td>Jessie [8]</td>\n",
       "      <td>Jessie [8]</td>\n",
       "    </tr>\n",
       "    <tr>\n",
       "      <th>Architecture</th>\n",
       "      <td>amd64</td>\n",
       "      <td>amd64</td>\n",
       "      <td>amd64</td>\n",
       "      <td>amd64</td>\n",
       "      <td>amd64</td>\n",
       "    </tr>\n",
       "    <tr>\n",
       "      <th>Environment</th>\n",
       "      <td>DEV</td>\n",
       "      <td>LIVE</td>\n",
       "      <td>LIVE</td>\n",
       "      <td>UNDEFINED</td>\n",
       "      <td>DEV</td>\n",
       "    </tr>\n",
       "    <tr>\n",
       "      <th>Team</th>\n",
       "      <td>Ops App1</td>\n",
       "      <td>Ops App1</td>\n",
       "      <td>Platform</td>\n",
       "      <td>Email</td>\n",
       "      <td>Platform</td>\n",
       "    </tr>\n",
       "    <tr>\n",
       "      <th>Version</th>\n",
       "      <td>42.28</td>\n",
       "      <td>48.33</td>\n",
       "      <td>41.15</td>\n",
       "      <td>45.11</td>\n",
       "      <td>42.44</td>\n",
       "    </tr>\n",
       "  </tbody>\n",
       "</table>\n",
       "</div>"
      ],
      "text/plain": [
       "                      0           2           26          45          62\n",
       "Distribution  Jessie [8]  Jessie [8]  Jessie [8]  Jessie [8]  Jessie [8]\n",
       "Architecture       amd64       amd64       amd64       amd64       amd64\n",
       "Environment          DEV        LIVE        LIVE   UNDEFINED         DEV\n",
       "Team            Ops App1    Ops App1    Platform       Email    Platform\n",
       "Version            42.28       48.33       41.15       45.11       42.44"
      ]
     },
     "execution_count": 5,
     "metadata": {},
     "output_type": "execute_result"
    }
   ],
   "source": [
    "from dfply import *\n",
    "\n",
    "piped = (raw_data\n",
    "    >> mutate(Version=X['Installed version'].str.split('-', 1, expand=True)[0])\n",
    "    >> mutate(Environment=X.Environment.fillna('UNDEFINED').str.upper())\n",
    "    >> mutate(Distribution=X.Distribution.apply(map_distro))\n",
    "    >> drop(X.CMDB_Id, X['Last seen'], X['Last modified'], X['Installed version'])\n",
    "    >> distinct(X.Version)\n",
    ")\n",
    "\n",
    "piped.transpose()"
   ]
  },
  {
   "cell_type": "markdown",
   "metadata": {},
   "source": [
    "The result is identical to the pure Pandas code, as expected.\n",
    "\n",
    "To learn more about `dfply`, read the [dplyr-style Data Manipulation with Pipes in Python](https://towardsdatascience.com/dplyr-style-data-manipulation-with-pipes-in-python-380dcb137000) blog post, which has more examples."
   ]
  },
  {
   "cell_type": "markdown",
   "metadata": {},
   "source": [
    "## Reference Links\n",
    "\n",
    "### dfply\n",
    "* [dplyr-style Data Manipulation with Pipes in Python – Towards Data Science](https://towardsdatascience.com/dplyr-style-data-manipulation-with-pipes-in-python-380dcb137000)\n",
    "* [kieferk/dfply: dplyr-style piping operations for Pandas dataframes](https://github.com/kieferk/dfply)\n",
    "\n",
    "### Alternatives\n",
    "* [has2k1/plydata: A grammar for data manipulation in Python](https://github.com/has2k1/plydata)\n",
    "* [shaypal5/pdpipe: Easy pipelines for Pandas dataframes](https://github.com/shaypal5/pdpipe)"
   ]
  }
 ],
 "metadata": {
  "hide_input": false,
  "kernelspec": {
   "display_name": "Python 3",
   "language": "python",
   "name": "python3"
  },
  "language_info": {
   "codemirror_mode": {
    "name": "ipython",
    "version": 3
   },
   "file_extension": ".py",
   "mimetype": "text/x-python",
   "name": "python",
   "nbconvert_exporter": "python",
   "pygments_lexer": "ipython3",
   "version": "3.8.1"
  },
  "toc": {
   "base_numbering": 1,
   "nav_menu": {},
   "number_sections": true,
   "sideBar": true,
   "skip_h1_title": false,
   "title_cell": "Table of Contents",
   "title_sidebar": "Contents",
   "toc_cell": false,
   "toc_position": {},
   "toc_section_display": true,
   "toc_window_display": false
  },
  "varInspector": {
   "cols": {
    "lenName": 16,
    "lenType": 16,
    "lenVar": 40
   },
   "kernels_config": {
    "python": {
     "delete_cmd_postfix": "",
     "delete_cmd_prefix": "del ",
     "library": "var_list.py",
     "varRefreshCmd": "print(var_dic_list())"
    },
    "r": {
     "delete_cmd_postfix": ") ",
     "delete_cmd_prefix": "rm(",
     "library": "var_list.r",
     "varRefreshCmd": "cat(var_dic_list()) "
    }
   },
   "types_to_exclude": [
    "module",
    "function",
    "builtin_function_or_method",
    "instance",
    "_Feature"
   ],
   "window_display": false
  }
 },
 "nbformat": 4,
 "nbformat_minor": 2
}
